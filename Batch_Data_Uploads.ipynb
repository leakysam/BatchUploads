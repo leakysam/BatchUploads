{
  "nbformat": 4,
  "nbformat_minor": 0,
  "metadata": {
    "colab": {
      "provenance": [],
      "authorship_tag": "ABX9TyNmIlkZRQJihk5YgPLuaJfB",
      "include_colab_link": true
    },
    "kernelspec": {
      "name": "python3",
      "display_name": "Python 3"
    },
    "language_info": {
      "name": "python"
    }
  },
  "cells": [
    {
      "cell_type": "markdown",
      "metadata": {
        "id": "view-in-github",
        "colab_type": "text"
      },
      "source": [
        "<a href=\"https://colab.research.google.com/github/leakysam/BatchUploads/blob/main/Batch_Data_Uploads.ipynb\" target=\"_parent\"><img src=\"https://colab.research.google.com/assets/colab-badge.svg\" alt=\"Open In Colab\"/></a>"
      ]
    },
    {
      "cell_type": "code",
      "execution_count": null,
      "metadata": {
        "id": "zEZbzo89WJ7_"
      },
      "outputs": [],
      "source": [
        "import pandas as pd\n",
        "\n",
        "# Load the CSV file\n",
        "file_path = '/content/nigeria_prices.csv'\n",
        "df = pd.read_csv(file_path)\n",
        "\n",
        "# Define the chunk size\n",
        "chunk_size = 1000\n",
        "\n",
        "# Loop to create batches and save each batch as a separate CSV file\n",
        "for i, chunk in enumerate(range(0, len(df), chunk_size)):\n",
        "    batch_df = df[chunk:chunk+chunk_size]\n",
        "    batch_file_name = f'batch_{i+1}.csv'\n",
        "    batch_df.to_csv(batch_file_name, index=False)\n",
        "    print(f'Saved {batch_file_name}')\n"
      ]
    }
  ]
}